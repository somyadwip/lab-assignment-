{
 "cells": [
  {
   "cell_type": "code",
   "execution_count": 1,
   "id": "95adf2cc-a9f5-424c-a5b8-6e24d7f5fe11",
   "metadata": {},
   "outputs": [
    {
     "name": "stdin",
     "output_type": "stream",
     "text": [
      "Write a number a= 23\n",
      "write another number b= 34\n"
     ]
    },
    {
     "name": "stdout",
     "output_type": "stream",
     "text": [
      "the product of given number is: 782.0\n",
      "the average of given numbers is: 28.5\n"
     ]
    }
   ],
   "source": [
    "a=float(input(\"Write a number a=\"))\n",
    "b=float(input(\"write another number b=\"))\n",
    "p=a*b\n",
    "x=(a+b)/2\n",
    "print(\"the product of given number is:\",p)\n",
    "print(\"the average of given numbers is:\",x)"
   ]
  },
  {
   "cell_type": "code",
   "execution_count": 2,
   "id": "871708d3-1665-44a3-a938-886d973a76af",
   "metadata": {},
   "outputs": [
    {
     "name": "stdin",
     "output_type": "stream",
     "text": [
      "write the rate of interest r= 7\n",
      "write the principle amount p= 10000\n",
      "write the given time period t= 1\n"
     ]
    },
    {
     "name": "stdout",
     "output_type": "stream",
     "text": [
      "the simple intrest: 700.0\n"
     ]
    }
   ],
   "source": [
    "r=float(input(\"write the rate of interest r=\"))\n",
    "p=float(input(\"write the principle amount p=\"))\n",
    "t=float(input(\"write the given time period t=\"))\n",
    "s=(p*r*t)/100\n",
    "print(\"the simple intrest:\",s)"
   ]
  },
  {
   "cell_type": "code",
   "execution_count": 3,
   "id": "4fd5f90e-d27e-4208-b224-ac4d177e962c",
   "metadata": {},
   "outputs": [
    {
     "name": "stdin",
     "output_type": "stream",
     "text": [
      "write the total hours of work h= 40\n",
      "write the hourly wage of worker r= 30\n"
     ]
    },
    {
     "name": "stdout",
     "output_type": "stream",
     "text": [
      "the wage of the worker is: 1200.0\n"
     ]
    }
   ],
   "source": [
    "h=float(input(\"write the total hours of work h=\"))\n",
    "r=float(input(\"write the hourly wage of worker r=\"))\n",
    "m=h*r\n",
    "print(\"the wage of the worker is:\",m)"
   ]
  },
  {
   "cell_type": "code",
   "execution_count": 7,
   "id": "c117ee86-43fd-437a-b28e-0c5ba1c62351",
   "metadata": {},
   "outputs": [
    {
     "name": "stdin",
     "output_type": "stream",
     "text": [
      "enter the unit cost of the item q= 20\n",
      "enter the quantity of the items c= 30\n"
     ]
    },
    {
     "name": "stdout",
     "output_type": "stream",
     "text": [
      "the stock value of the item: 600.0\n"
     ]
    }
   ],
   "source": [
    "q=float(input(\"enter the unit cost of the item q=\"))\n",
    "c=int(input(\"enter the quantity of the items c=\"))\n",
    "s=q*c\n",
    "print(\"the stock value of the item:\",s)"
   ]
  },
  {
   "cell_type": "code",
   "execution_count": 8,
   "id": "ba2dfdce-0352-4d65-a56d-82f14aacebb4",
   "metadata": {},
   "outputs": [
    {
     "name": "stdin",
     "output_type": "stream",
     "text": [
      "enter the value of base b= 3\n",
      "enter the value of height h= 5\n"
     ]
    },
    {
     "name": "stdout",
     "output_type": "stream",
     "text": [
      "the area of given parallelogram: 15.0\n"
     ]
    }
   ],
   "source": [
    "b=float(input(\"enter the value of base b=\"))\n",
    "h=float(input(\"enter the value of height h=\"))\n",
    "a=b*h\n",
    "print(\"the area of given parallelogram:\",a)"
   ]
  },
  {
   "cell_type": "code",
   "execution_count": 9,
   "id": "954ebd15-78da-48a1-b0f0-fb243a2c2c9f",
   "metadata": {},
   "outputs": [
    {
     "name": "stdin",
     "output_type": "stream",
     "text": [
      "write the length l= 20\n",
      "write the breadth b= 15\n",
      "write the height h= 10\n",
      "write the cost of painting per square unit c= 10\n"
     ]
    },
    {
     "name": "stdout",
     "output_type": "stream",
     "text": [
      "the total cost of painting the wall: 7000.0\n"
     ]
    }
   ],
   "source": [
    "l=float(input(\"write the length l=\"))\n",
    "b=float(input(\"write the breadth b=\"))\n",
    "h=float(input(\"write the height h=\"))\n",
    "c=float(input(\"write the cost of painting per square unit c=\"))\n",
    "t=2*h*(l+b)*c\n",
    "print(\"the total cost of painting the wall:\",t)"
   ]
  },
  {
   "cell_type": "code",
   "execution_count": 10,
   "id": "2e3c3ed3-712f-496c-9eeb-e71dd516ea8a",
   "metadata": {},
   "outputs": [
    {
     "name": "stdin",
     "output_type": "stream",
     "text": [
      "write the value of radius of circle r= 7\n"
     ]
    },
    {
     "name": "stdout",
     "output_type": "stream",
     "text": [
      "the parameter of the circular plot: 43.96\n"
     ]
    }
   ],
   "source": [
    "r=float(input(\"write the value of radius of circle r=\"))\n",
    "p=3.14\n",
    "a=2*p*r\n",
    "print(\"the parameter of the circular plot:\",a)"
   ]
  },
  {
   "cell_type": "code",
   "execution_count": 11,
   "id": "49a2e6b2-8c98-47d2-bc70-e651f1b08dd8",
   "metadata": {},
   "outputs": [
    {
     "name": "stdin",
     "output_type": "stream",
     "text": [
      "enter the given length of square= 20\n"
     ]
    },
    {
     "name": "stdout",
     "output_type": "stream",
     "text": [
      "the perimeter of the square: 80.0\n",
      "the area of the square: 400.0\n"
     ]
    }
   ],
   "source": [
    "l=float(input(\"enter the given length of square=\"))\n",
    "p=4*l\n",
    "a=l*l\n",
    "print(\"the perimeter of the square:\",p)\n",
    "print(\"the area of the square:\",a)"
   ]
  },
  {
   "cell_type": "code",
   "execution_count": 12,
   "id": "b285cdb9-57b4-44de-bf6c-ff972d9ee809",
   "metadata": {},
   "outputs": [
    {
     "name": "stdin",
     "output_type": "stream",
     "text": [
      "write the distance in kilometer k= 35\n"
     ]
    },
    {
     "name": "stdout",
     "output_type": "stream",
     "text": [
      "the given k in miles: 21.747985\n"
     ]
    }
   ],
   "source": [
    "k=float(input(\"write the distance in kilometer k=\"))\n",
    "m=k*0.621371\n",
    "print(\"the given k in miles:\",m)"
   ]
  },
  {
   "cell_type": "code",
   "execution_count": 13,
   "id": "3c12fa6f-9f64-403b-bea4-f120f5679b6b",
   "metadata": {},
   "outputs": [
    {
     "name": "stdin",
     "output_type": "stream",
     "text": [
      "enter the principle amount p= 10000\n",
      "enter the rate of intrest r= 7\n",
      "enter the time period t= 3\n"
     ]
    },
    {
     "name": "stdout",
     "output_type": "stream",
     "text": [
      "total amount is: 12250.43\n",
      "compound intrest is: 2250.4300000000003\n"
     ]
    }
   ],
   "source": [
    "p=float(input(\"enter the principle amount p=\"))\n",
    "r=float(input(\"enter the rate of intrest r=\"))\n",
    "t=float(input(\"enter the time period t=\"))\n",
    "a=p*(1+r/100)**t\n",
    "c=a-p\n",
    "print(\"total amount is:\",a)\n",
    "print(\"compound intrest is:\",c)"
   ]
  },
  {
   "cell_type": "code",
   "execution_count": 14,
   "id": "2305ecee-5899-495b-abbe-0e8221b17296",
   "metadata": {},
   "outputs": [
    {
     "name": "stdin",
     "output_type": "stream",
     "text": [
      "the basic pay of the employee is b= 10000\n"
     ]
    },
    {
     "name": "stdout",
     "output_type": "stream",
     "text": [
      "the net salary of an employee: 24150.0\n"
     ]
    }
   ],
   "source": [
    "b=float(input(\"the basic pay of the employee is b=\"))\n",
    "g=b+(97/100*b)+(57/100*b)+150\n",
    "n=g-(12/100*b)-200\n",
    "print(\"the net salary of an employee:\",n)"
   ]
  },
  {
   "cell_type": "code",
   "execution_count": 22,
   "id": "019b154d-dc42-4adb-a061-e3f9f58710d9",
   "metadata": {},
   "outputs": [
    {
     "name": "stdin",
     "output_type": "stream",
     "text": [
      "enter the cost price 45\n",
      "enter the sell price 35\n"
     ]
    },
    {
     "name": "stdout",
     "output_type": "stream",
     "text": [
      "loss is  10.0\n"
     ]
    }
   ],
   "source": [
    "cost_price=float(input(\"enter the cost price\"))\n",
    "sells_price=float(input(\"enter the sell price\"))\n",
    "if(cost_price > sells_price):\n",
    "    loss = cost_price - sells_price\n",
    "    print(\"loss is \", loss)\n",
    "else:\n",
    "    profit = sells_price - cost_price\n",
    "    print(\"profit is\", profit)"
   ]
  },
  {
   "cell_type": "code",
   "execution_count": 20,
   "id": "bb9aec35-a68a-48ef-9a67-fdbf446a588b",
   "metadata": {},
   "outputs": [
    {
     "name": "stdin",
     "output_type": "stream",
     "text": [
      "enter the first angle : 180\n",
      "enter the second angle : 0\n",
      "enter the three angle : 0\n"
     ]
    },
    {
     "name": "stdout",
     "output_type": "stream",
     "text": [
      "invalid triangle\n"
     ]
    }
   ],
   "source": [
    "a= int(input(\"enter the first angle :\"))\n",
    "b= int(input(\"enter the second angle :\"))\n",
    "c= int(input(\"enter the three angle :\"))\n",
    "if(a+b+c!=180)or(a==0 or b==0 or c==0):\n",
    "    print(\"invalid triangle\")\n",
    "elif(a==90 and b<90 and c<90)or(a<90 and b==90 and c<90)or(a<90 and b<90 and c==90):\n",
    "    print(\"it's a right angle triangle\")\n",
    "elif(a>90 and b<90 and c<90)or(a<90 and b>90 and c<90)or(a<90 and b<90 and c>90):\n",
    "    print(\"it's an obtuse triangle\")\n",
    "elif(a<90 and b<90 and c<90):\n",
    "    print(\"it's an acute angle triangle\")\n",
    "elif(a==b==c==60):\n",
    "    print(\"it's an eqiangle triangle\")"
   ]
  },
  {
   "cell_type": "code",
   "execution_count": 1,
   "id": "4e97317b-41df-4c5f-a50d-57c1b35826ab",
   "metadata": {},
   "outputs": [
    {
     "name": "stdin",
     "output_type": "stream",
     "text": [
      "enter the length of four sides a,b,c and d= 90,80,70,60\n",
      "enter one of the angle 60\n"
     ]
    },
    {
     "name": "stdout",
     "output_type": "stream",
     "text": [
      "irregular\n"
     ]
    }
   ],
   "source": [
    "a,b,c,d=input(\"enter the length of four sides a,b,c and d=\").split(\",\")\n",
    "e=float(input(\"enter one of the angle\"))\n",
    "if(a==b and b==c and c==d):\n",
    "    if e==90:\n",
    "        print(\"square\")\n",
    "    else:\n",
    "        print(\"rhombus\")\n",
    "elif a==c and b==d:\n",
    "    if e==90:\n",
    "        print(\"rectangle\")\n",
    "    else:\n",
    "        print(\"paralellogram\")\n",
    "else:\n",
    "    print(\"irregular\")"
   ]
  },
  {
   "cell_type": "code",
   "execution_count": 5,
   "id": "fcecd98c-eaa4-4c90-bfa2-119a38388bd5",
   "metadata": {},
   "outputs": [
    {
     "name": "stdin",
     "output_type": "stream",
     "text": [
      "enter the age of the employee= 1\n",
      "enter the sex of the employee (M)ale or (F)emale= M\n",
      "enter the martial status of employee (Y)es or (N)o= Y\n"
     ]
    },
    {
     "name": "stdout",
     "output_type": "stream",
     "text": [
      "ERROR\n"
     ]
    }
   ],
   "source": [
    "a=int(input(\"enter the age of the employee=\"))\n",
    "s=input(\"enter the sex of the employee (M)ale or (F)emale=\")\n",
    "m=input(\"enter the martial status of employee (Y)es or (N)o=\")\n",
    "if s.upper()==\"F\":\n",
    "    print(\"she will only work in urban areas\")\n",
    "elif s.upper()==\"M\" and a>=20 and a<=40:\n",
    "    print(\"he can work anywhere\")\n",
    "elif s.upper()==\"M\" and a>=40 and a<=60:\n",
    "    print(\"he will work in urban area only\")\n",
    "else:\n",
    "    print(\"ERROR\")"
   ]
  },
  {
   "cell_type": "code",
   "execution_count": 8,
   "id": "163f12bf-a6e4-4944-8505-14af947ba2dc",
   "metadata": {},
   "outputs": [
    {
     "name": "stdin",
     "output_type": "stream",
     "text": [
      "enter the total number of classes held= 300\n",
      "enter the number of classes attended= 30\n"
     ]
    },
    {
     "name": "stdout",
     "output_type": "stream",
     "text": [
      "percentage of class attended: 10.0\n",
      "student is not allowed to sit for the exam\n"
     ]
    }
   ],
   "source": [
    "t=int(input(\"enter the total number of classes held=\"))\n",
    "p=int(input(\"enter the number of classes attended=\"))\n",
    "s=(p/t)*100\n",
    "print(\"percentage of class attended:\",s)\n",
    "if s>=75:\n",
    "    print(\"student is allowed to sit for the exam\")\n",
    "else:\n",
    "    print(\"student is not allowed to sit for the exam\")"
   ]
  },
  {
   "cell_type": "code",
   "execution_count": 6,
   "id": "354ace81-eee0-4e78-9e4c-28821bfc9893",
   "metadata": {},
   "outputs": [
    {
     "name": "stdin",
     "output_type": "stream",
     "text": [
      "enter the total hours of work done= 24\n"
     ]
    },
    {
     "name": "stdout",
     "output_type": "stream",
     "text": [
      "the payment of the worker is: 552.0\n"
     ]
    }
   ],
   "source": [
    "h=float(input(\"enter the total hours of work done=\"))\n",
    "if h<=37:\n",
    "    t=h*23\n",
    "    print(\"the payment of the worker is:\",t)\n",
    "elif h>37 and h<=65:\n",
    "    t=(37*23)+((h-37)*31)\n",
    "    print(\"the payment of the worker is:\",t)\n",
    "else:\n",
    "    t=(37*23)+((h-37)*31)+((h-65)*41)\n",
    "    print(\"the payment of the worker is:\",t)"
   ]
  },
  {
   "cell_type": "code",
   "execution_count": 46,
   "id": "cd84a023-0883-4801-9552-780f5de412d9",
   "metadata": {},
   "outputs": [
    {
     "name": "stdin",
     "output_type": "stream",
     "text": [
      "enter the current reading= 76\n",
      "enter the previous reading= 67\n"
     ]
    },
    {
     "name": "stdout",
     "output_type": "stream",
     "text": [
      "the total electric bill is: 74.5\n"
     ]
    }
   ],
   "source": [
    "t=int(input(\"enter the current reading=\"))\n",
    "p=int(input(\"enter the previous reading=\"))\n",
    "if t>=p:\n",
    "    c=t-p\n",
    "else:\n",
    "    c=(1000000-p)+t\n",
    "if c<=50:\n",
    "    e=c*5.5\n",
    "elif c>=50 and c<=125:\n",
    "    e=5.5*50+(c-50)*7.75\n",
    "elif c>=125 and c<=250:\n",
    "    e=5.5*50+7.75*75+(C-125)*9.35\n",
    "else:\n",
    "    e=(50*5.5)+7.75*75+9.35*125+(c-250)*12.65\n",
    "r=e+25\n",
    "print(\"the total electric bill is:\",r)"
   ]
  },
  {
   "cell_type": "code",
   "execution_count": 51,
   "id": "80b9019d-fc53-443e-ac87-530ef3e03ff4",
   "metadata": {},
   "outputs": [
    {
     "name": "stdin",
     "output_type": "stream",
     "text": [
      "enter the basic pay of the employee= 2000000\n",
      "write the designation of the employee= 0fficer\n"
     ]
    },
    {
     "name": "stdout",
     "output_type": "stream",
     "text": [
      "the festival bonus of the employee is: 178000.0\n"
     ]
    }
   ],
   "source": [
    "bp=float(input(\"enter the basic pay of the employee=\"))\n",
    "d=input(\"write the designation of the employee=\")\n",
    "if bp<40000 and d==\"manager\":\n",
    "    b=0.12*bp\n",
    "    if b<2500:\n",
    "        b=2500\n",
    "if bp>=40000 and d==\"manager\":\n",
    "    b=0.16*bp\n",
    "    if b>7500:\n",
    "        b=7500\n",
    "if bp<20000 and d==\"officer\":\n",
    "    b=0.14*bp\n",
    "    if b<2500:\n",
    "        b=2500\n",
    "    if b>5000:\n",
    "        b=5000\n",
    "else:\n",
    "    b=0.089*bp\n",
    "print(\"the festival bonus of the employee is:\",b)"
   ]
  },
  {
   "cell_type": "code",
   "execution_count": 16,
   "id": "ee062bfc-6937-4ed5-a14e-4e044dc28055",
   "metadata": {},
   "outputs": [
    {
     "name": "stdin",
     "output_type": "stream",
     "text": [
      "enter the number= 10000\n"
     ]
    },
    {
     "name": "stdout",
     "output_type": "stream",
     "text": [
      "10000 is not a perfect number\n"
     ]
    }
   ],
   "source": [
    "n=int(input(\"enter the number=\"))\n",
    "s=0\n",
    "for i in range(1,n):\n",
    "    if n%i==0:\n",
    "        s+=i\n",
    "if s==n:\n",
    "    print(n,\"is a perfect number\")\n",
    "else:\n",
    "    print(n,\"is not a perfect number\")"
   ]
  },
  {
   "cell_type": "code",
   "execution_count": 47,
   "id": "59e7b4c9-961e-4e6d-95f8-6593eca75170",
   "metadata": {},
   "outputs": [
    {
     "name": "stdin",
     "output_type": "stream",
     "text": [
      "enter the number 12\n"
     ]
    },
    {
     "name": "stdout",
     "output_type": "stream",
     "text": [
      "10 11 12 13 14\n"
     ]
    }
   ],
   "source": [
    "n=int(input(\"enter the number\"))\n",
    "for i in range(0,1001):\n",
    "    i+=1\n",
    "c=(n-2)**2+(n-1)**2+(n)**2\n",
    "p=(n+1)**2+(n+2)**2\n",
    "if c==p:\n",
    "    print(n-2,n-1,n,n+1,n+2)\n",
    "else:\n",
    "    print(\"sum of first 3 consecutive number is not equal to next 2 number\")"
   ]
  },
  {
   "cell_type": "code",
   "execution_count": 44,
   "id": "750abf64-bee1-4045-94c3-c551313ab1c3",
   "metadata": {},
   "outputs": [
    {
     "name": "stdin",
     "output_type": "stream",
     "text": [
      "enter a positive number= 7\n"
     ]
    },
    {
     "name": "stdout",
     "output_type": "stream",
     "text": [
      "the factorial of given number 7 is 5040\n"
     ]
    }
   ],
   "source": [
    "n=int(input(\"enter a positive number=\"))\n",
    "if n<0:\n",
    "    print(\"factorial not possible\")\n",
    "elif n==1 or n==0:\n",
    "    print(1)\n",
    "else:\n",
    "    s=1\n",
    "    for i in range(2,n+1):\n",
    "        s*=i\n",
    "    print(f\"the factorial of given number {n} is {s}\")"
   ]
  },
  {
   "cell_type": "code",
   "execution_count": 15,
   "id": "b8135b71-4a64-435a-a687-81d452924c6a",
   "metadata": {},
   "outputs": [
    {
     "name": "stdin",
     "output_type": "stream",
     "text": [
      "enter a number= 34\n"
     ]
    },
    {
     "name": "stdout",
     "output_type": "stream",
     "text": [
      "the divisor of the numbers are= 1\n",
      "the divisor of the numbers are= 2\n",
      "the divisor of the numbers are= 17\n"
     ]
    }
   ],
   "source": [
    "n=int(input(\"enter a number=\"))\n",
    "for i in range(1,n):\n",
    "    if n%i==0:\n",
    "        print(\"the divisor of the numbers are=\",i)"
   ]
  },
  {
   "cell_type": "code",
   "execution_count": 16,
   "id": "cb5cad44-2311-478e-bd8c-d5379c9f4b14",
   "metadata": {},
   "outputs": [
    {
     "name": "stdout",
     "output_type": "stream",
     "text": [
      "1\n",
      "6\n",
      "28\n",
      "496\n",
      "8128\n"
     ]
    }
   ],
   "source": [
    "for i in range(1,10001):\n",
    "    s=1\n",
    "    for j in range(2,i):\n",
    "        if i%j==0 and j!=i:\n",
    "            s+=j\n",
    "    if s==i:\n",
    "        print(i)"
   ]
  },
  {
   "cell_type": "code",
   "execution_count": null,
   "id": "675313ca-ad0c-4bc5-8447-b196c37b2cb1",
   "metadata": {},
   "outputs": [],
   "source": [
    "start=1\n",
    "end=1000\n"
   ]
  },
  {
   "cell_type": "code",
   "execution_count": 1,
   "id": "313c4eb8-0440-4c72-83fa-e9a20478d104",
   "metadata": {},
   "outputs": [
    {
     "name": "stdin",
     "output_type": "stream",
     "text": [
      "enter the number 987654321\n"
     ]
    },
    {
     "name": "stdout",
     "output_type": "stream",
     "text": [
      "111010110111100110100010110001\n"
     ]
    }
   ],
   "source": [
    "n=int(input(\"enter the number\"))\n",
    "b=0\n",
    "i=0\n",
    "while n!=0:\n",
    "    r=n%2\n",
    "    b=b+r*10**i\n",
    "    n=n//2\n",
    "    i=i+1\n",
    "print(b)"
   ]
  },
  {
   "cell_type": "code",
   "execution_count": 3,
   "id": "974797e9-ab69-45f0-9f8e-6d17d0f34f7e",
   "metadata": {},
   "outputs": [
    {
     "name": "stdin",
     "output_type": "stream",
     "text": [
      "enter the number of terms= 56\n",
      "enter the value of x= 7\n"
     ]
    },
    {
     "name": "stdout",
     "output_type": "stream",
     "text": [
      "the sum of series= 4.421516335053816e+45\n"
     ]
    }
   ],
   "source": [
    "n=int(input(\"enter the number of terms=\"))\n",
    "x=float(input(\"enter the value of x=\"))\n",
    "t=1\n",
    "s=0\n",
    "for i in range(1,n+1):\n",
    "    t=t*x\n",
    "    s+=t/i\n",
    "print(\"the sum of series=\",s)"
   ]
  },
  {
   "cell_type": "code",
   "execution_count": 7,
   "id": "6d6ff9c1-ca8e-4621-9aed-e8e76e82a31c",
   "metadata": {},
   "outputs": [
    {
     "name": "stdin",
     "output_type": "stream",
     "text": [
      "enter the number of terms= 3\n",
      "enter the value of x= 3\n"
     ]
    },
    {
     "name": "stdout",
     "output_type": "stream",
     "text": [
      "the sum of series= 12.0\n"
     ]
    }
   ],
   "source": [
    "n=int(input(\"enter the number of terms=\"))\n",
    "x=float(input(\"enter the value of x=\"))\n",
    "t=1\n",
    "s=0\n",
    "for i in range(1,n+1):\n",
    "    t=t*x/i\n",
    "    s+=t\n",
    "print(\"the sum of series=\",s)    "
   ]
  },
  {
   "cell_type": "code",
   "execution_count": 12,
   "id": "8559d2d4-b4c7-470b-9cde-a3c284a18330",
   "metadata": {},
   "outputs": [
    {
     "name": "stdin",
     "output_type": "stream",
     "text": [
      "enter the number= 23\n"
     ]
    },
    {
     "name": "stdout",
     "output_type": "stream",
     "text": [
      "sum of the given number's digits= 5\n"
     ]
    }
   ],
   "source": [
    "n=int(input(\"enter the number=\"))\n",
    "s=0\n",
    "while n!=0:\n",
    "    r=n%10\n",
    "    s=s+r\n",
    "    n=n//10\n",
    "print(\"sum of the given number's digits=\",s) "
   ]
  },
  {
   "cell_type": "code",
   "execution_count": 15,
   "id": "32216344-26df-483f-9d5d-01ccb2236a88",
   "metadata": {},
   "outputs": [
    {
     "name": "stdin",
     "output_type": "stream",
     "text": [
      "enter the number 23\n"
     ]
    },
    {
     "name": "stdout",
     "output_type": "stream",
     "text": [
      "32\n"
     ]
    }
   ],
   "source": [
    "n=input(\"enter the number\")\n",
    "rev=\"\"\n",
    "for i in (n):\n",
    "    rev=i+rev\n",
    "print(rev)"
   ]
  },
  {
   "cell_type": "code",
   "execution_count": 42,
   "id": "9ce48fbe-3723-47bd-bd26-0b83c03e27a0",
   "metadata": {},
   "outputs": [
    {
     "name": "stdin",
     "output_type": "stream",
     "text": [
      "enter the range= 4\n"
     ]
    },
    {
     "name": "stdout",
     "output_type": "stream",
     "text": [
      " \n",
      "*\n",
      "\n",
      "  \n",
      "*\n",
      "\n",
      "\n",
      "   \n",
      "*\n",
      "\n",
      "\n",
      "\n",
      "    \n",
      "*\n",
      "\n",
      "\n",
      "\n",
      "\n"
     ]
    }
   ],
   "source": [
    "r=int(input(\"enter the range=\"))\n",
    "for i in range(1,r+1):\n",
    "    for j in range(1,i+1):\n",
    "        print(\" \",end=\"\")\n",
    "    for k in range(i + 1):\n",
    "        if k==1 or k==2*i-1:\n",
    "            print(\"*\")\n",
    "        else:\n",
    "            print( )\n",
    "    print()"
   ]
  },
  {
   "cell_type": "code",
   "execution_count": 15,
   "id": "06b1b706-45f8-46e3-8588-561beefb9b85",
   "metadata": {},
   "outputs": [
    {
     "name": "stdin",
     "output_type": "stream",
     "text": [
      "enter the range= 5\n"
     ]
    },
    {
     "name": "stdout",
     "output_type": "stream",
     "text": [
      "A\n",
      "AB\n",
      "ABC\n",
      "ABCD\n",
      "ABCDE\n"
     ]
    }
   ],
   "source": [
    "r=int(input(\"enter the range=\"))\n",
    "for i in range(1,r+1):\n",
    "    for j in range(65,65+i):\n",
    "        print(chr(j),end=\"\")\n",
    "    print()"
   ]
  },
  {
   "cell_type": "code",
   "execution_count": 27,
   "id": "3d1c8386-8d50-4feb-83e0-e420bd58b38b",
   "metadata": {},
   "outputs": [
    {
     "name": "stdin",
     "output_type": "stream",
     "text": [
      "enter the range= 6\n"
     ]
    },
    {
     "name": "stdout",
     "output_type": "stream",
     "text": [
      "    A\n",
      "   AB\n",
      "  ABC\n",
      " ABCD\n",
      "ABCDE\n",
      "ABCDEF\n"
     ]
    }
   ],
   "source": [
    "r=int(input(\"enter the range=\"))\n",
    "for i in range(1,r+1):\n",
    "    for j in range(r-i-1):\n",
    "        print(\" \",end=\"\")\n",
    "    for k in range(65,i+65):\n",
    "        print(chr(k),end=\"\")\n",
    "    print()"
   ]
  },
  {
   "cell_type": "code",
   "execution_count": 2,
   "id": "163430d6-0061-4694-aa60-82e54c870d97",
   "metadata": {},
   "outputs": [
    {
     "name": "stdin",
     "output_type": "stream",
     "text": [
      "enter the amount: 7800\n"
     ]
    },
    {
     "name": "stdout",
     "output_type": "stream",
     "text": [
      "No of 2000 note= 3\n",
      "No of 500 note= 3\n",
      "No of 200 note= 1\n",
      "No of 100 note= 1\n",
      "No of 50 note= 0\n",
      "No of 20 note= 0\n",
      "No of 10 note= 0\n",
      "No of 5 note= 0\n",
      "No of 2 note= 0\n",
      "No of 1 note= 0\n"
     ]
    }
   ],
   "source": [
    "def dispense_cash(n):\n",
    "    l=[2000,500,200,100,50,20,10,5,2,1]\n",
    "    for i in l:\n",
    "        q=n//i\n",
    "        print(\"No of\",i,\"note=\",q)\n",
    "        n=n%i\n",
    "n=int(input(\"enter the amount:\"))\n",
    "dispense_cash(n)"
   ]
  },
  {
   "cell_type": "code",
   "execution_count": 6,
   "id": "0530ab6b-739d-41dc-a460-794ba07d9315",
   "metadata": {},
   "outputs": [
    {
     "name": "stdout",
     "output_type": "stream",
     "text": [
      "89\n"
     ]
    }
   ],
   "source": [
    "def maximum (a,b,c):\n",
    "    if(a>=b)and(a>=c):\n",
    "        largest=a\n",
    "    elif(b>=a)and(b>=c):\n",
    "        largest=b\n",
    "    else:\n",
    "        largest=c\n",
    "    return largest\n",
    "a=4\n",
    "b=7\n",
    "c=89\n",
    "print(maximum(a,b,c))"
   ]
  },
  {
   "cell_type": "code",
   "execution_count": 7,
   "id": "e419e4e5-b19e-41e6-8d0d-d7dffdb441ae",
   "metadata": {},
   "outputs": [
    {
     "name": "stdout",
     "output_type": "stream",
     "text": [
      "158\n"
     ]
    }
   ],
   "source": [
    "def sum_list(list):\n",
    "    total=0\n",
    "    for i in list:\n",
    "        total +=i\n",
    "    print(total)\n",
    "s=[23,34,45,56]\n",
    "sum_list(s)"
   ]
  },
  {
   "cell_type": "code",
   "execution_count": 9,
   "id": "bfca3a06-3c26-4c2c-bf5c-0de9222ae11b",
   "metadata": {},
   "outputs": [
    {
     "name": "stdout",
     "output_type": "stream",
     "text": [
      "422280\n"
     ]
    }
   ],
   "source": [
    "def multiply_list(list):\n",
    "    p=1\n",
    "    for i in list:\n",
    "        p *=i\n",
    "    print(p)\n",
    "l=[12,23,34,45]\n",
    "multiply_list(l)"
   ]
  },
  {
   "cell_type": "code",
   "execution_count": 12,
   "id": "22d32cb2-72a5-456f-9e64-8c8c77eba15e",
   "metadata": {},
   "outputs": [
    {
     "name": "stdout",
     "output_type": "stream",
     "text": [
      "True\n"
     ]
    }
   ],
   "source": [
    "def given_range(number,start,end):\n",
    "    if number in range(start,end+1):\n",
    "        print(True)\n",
    "    else:\n",
    "        print(False)\n",
    "given_range(32,1,100)"
   ]
  },
  {
   "cell_type": "code",
   "execution_count": 15,
   "id": "1330fa30-0135-4d57-a077-10fee9383c5a",
   "metadata": {},
   "outputs": [
    {
     "name": "stdout",
     "output_type": "stream",
     "text": [
      "2\n",
      "4\n",
      "6\n",
      "8\n",
      "10\n"
     ]
    }
   ],
   "source": [
    "def even_number(number):\n",
    "    for i in number:\n",
    "        if i%2==0:\n",
    "            print(i)\n",
    "my_list=[1,2,3,4,5,6,7,8,9,10]\n",
    "even_number(my_list)"
   ]
  },
  {
   "cell_type": "code",
   "execution_count": 1,
   "id": "234a9204-19dd-4e32-831f-023301b07be3",
   "metadata": {},
   "outputs": [
    {
     "name": "stdout",
     "output_type": "stream",
     "text": [
      "8\n"
     ]
    }
   ],
   "source": [
    "def exponent(a,b):\n",
    "    result=a**b\n",
    "    print(result)\n",
    "exponent(2,3)"
   ]
  },
  {
   "cell_type": "code",
   "execution_count": 10,
   "id": "fd3f9343-532d-463c-905c-c7c498f2b8f6",
   "metadata": {},
   "outputs": [
    {
     "name": "stdout",
     "output_type": "stream",
     "text": [
      "y is= 20\n",
      "x= 10\n"
     ]
    }
   ],
   "source": [
    "x=10\n",
    "def display( ):\n",
    "    y=20\n",
    "    print(\"y is=\",y)\n",
    "display( )\n",
    "print(\"x=\",x)"
   ]
  },
  {
   "cell_type": "code",
   "execution_count": 19,
   "id": "f49c393a-ed7d-4ac1-a0ab-adf3dad773ab",
   "metadata": {},
   "outputs": [
    {
     "name": "stdout",
     "output_type": "stream",
     "text": [
      "Inside funtion y= 20\n",
      "outside funtion y= 20\n"
     ]
    }
   ],
   "source": [
    "x=5\n",
    "def funtion( ):\n",
    "    global y\n",
    "    y=20\n",
    "    print(\"Inside funtion y=\",y)\n",
    "funtion( )\n",
    "print(\"outside funtion y=\",y)"
   ]
  },
  {
   "cell_type": "code",
   "execution_count": 20,
   "id": "c7ac47c9-1b12-4b1d-9eae-862778eb4b79",
   "metadata": {},
   "outputs": [
    {
     "name": "stdout",
     "output_type": "stream",
     "text": [
      "x is= 10\n",
      "y is= 40.89\n",
      "z is= abc\n"
     ]
    }
   ],
   "source": [
    "def display(x,y,z):\n",
    "    print(\"x is=\",x)\n",
    "    print(\"y is=\",y)\n",
    "    print(\"z is=\",z)\n",
    "display(z=\"abc\",x=10,y=40.89)"
   ]
  },
  {
   "cell_type": "code",
   "execution_count": 22,
   "id": "e3666285-3113-4ef2-acca-bd137cc53325",
   "metadata": {},
   "outputs": [
    {
     "name": "stdout",
     "output_type": "stream",
     "text": [
      "x= 30\n",
      "y= 40\n"
     ]
    }
   ],
   "source": [
    "def display(x=23,y=10):\n",
    "    print(\"x=\",x)\n",
    "    print(\"y=\",y)\n",
    "display(30,40)"
   ]
  },
  {
   "cell_type": "code",
   "execution_count": 23,
   "id": "6dad6821-32d3-409d-9add-f08302a407a7",
   "metadata": {},
   "outputs": [
    {
     "name": "stdout",
     "output_type": "stream",
     "text": [
      "0.5\n"
     ]
    }
   ],
   "source": [
    "def addition(x,y):\n",
    "    print(x+y)\n",
    "def subtraction(x,y):\n",
    "    print(x-y)\n",
    "def multiplication(x,y):\n",
    "    print(x*y)\n",
    "def division(x,y):\n",
    "    if y==0 or x==0:\n",
    "        print(\"error\")\n",
    "    else:\n",
    "        print(x/y)\n",
    "division(45,90)"
   ]
  },
  {
   "cell_type": "code",
   "execution_count": 1,
   "id": "ab272fa3-86d1-475b-a5c9-a5a1f290bf70",
   "metadata": {},
   "outputs": [
    {
     "name": "stdout",
     "output_type": "stream",
     "text": [
      "Anik likes to read:\n",
      "Math\n",
      "English\n",
      "priyanka likes to read:\n",
      "History\n",
      "Bengali\n",
      "Chemistry\n"
     ]
    }
   ],
   "source": [
    "def display(name,*subject):\n",
    "    print(name,\"likes to read:\")\n",
    "    for i in subject:\n",
    "        print(i)\n",
    "display(\"Anik\",\"Math\",\"English\")\n",
    "display(\"priyanka\",\"History\",\"Bengali\",\"Chemistry\")"
   ]
  },
  {
   "cell_type": "code",
   "execution_count": 2,
   "id": "fec9199f-43b7-4a8c-8cd6-733eda9f62b7",
   "metadata": {},
   "outputs": [
    {
     "name": "stdout",
     "output_type": "stream",
     "text": [
      "120\n"
     ]
    }
   ],
   "source": [
    "def fact(n):\n",
    "    if n==0:\n",
    "        return 1\n",
    "    else:\n",
    "        return n*fact(n-1)\n",
    "print(fact(5))"
   ]
  },
  {
   "cell_type": "code",
   "execution_count": 5,
   "id": "b4565c05-538a-49af-81cc-256ab0b7df26",
   "metadata": {},
   "outputs": [
    {
     "name": "stdout",
     "output_type": "stream",
     "text": [
      "1024\n"
     ]
    }
   ],
   "source": [
    "def exponent(x,y):\n",
    "    if y==0:\n",
    "        return 1\n",
    "    elif y>0:\n",
    "        return x*exponent(x,y-1)\n",
    "    else:\n",
    "        return 1/exponent(x,-y)\n",
    "result=exponent(4,5)\n",
    "print(result)"
   ]
  },
  {
   "cell_type": "code",
   "execution_count": 9,
   "id": "70fb869d-f9b6-46db-a1eb-8fff6bcabe0f",
   "metadata": {},
   "outputs": [
    {
     "name": "stdin",
     "output_type": "stream",
     "text": [
      "enter the string= my name is somyadwip\n"
     ]
    },
    {
     "name": "stdout",
     "output_type": "stream",
     "text": [
      "new string after vowel removed is= my nm s smydwp\n"
     ]
    }
   ],
   "source": [
    "s=input(\"enter the string=\")\n",
    "sn=''\n",
    "for i in s:\n",
    "    if i in \"aeiouAEIOU\":\n",
    "        pass\n",
    "    else:\n",
    "        sn= sn+i\n",
    "print(\"new string after vowel removed is=\",sn)"
   ]
  },
  {
   "cell_type": "code",
   "execution_count": 15,
   "id": "9ba4da8f-5824-4dd0-94a8-87e981382681",
   "metadata": {},
   "outputs": [
    {
     "name": "stdin",
     "output_type": "stream",
     "text": [
      "enter the string= vty56w45sr\n"
     ]
    },
    {
     "name": "stdout",
     "output_type": "stream",
     "text": [
      "the new string without numbers is= vtywsr\n"
     ]
    }
   ],
   "source": [
    "s=input(\"enter the string=\")\n",
    "sn=''\n",
    "for i in s:\n",
    "    if i in \"1234567890\":\n",
    "        pass\n",
    "    else:\n",
    "        sn= sn+i\n",
    "print(\"the new string without numbers is=\",sn)"
   ]
  },
  {
   "cell_type": "code",
   "execution_count": 24,
   "id": "583a31fe-df3a-442f-b78e-0444dc0aebc5",
   "metadata": {},
   "outputs": [
    {
     "name": "stdin",
     "output_type": "stream",
     "text": [
      "Enter the value of n= 10\n"
     ]
    },
    {
     "name": "stdout",
     "output_type": "stream",
     "text": [
      "0\t1\t1\t2\t3\t5\t8\t13\t21\t34\t"
     ]
    }
   ],
   "source": [
    "def fibonacci(n):\n",
    "    if n==0:\n",
    "        return 0\n",
    "    elif n==1:\n",
    "        return 1\n",
    "    else:\n",
    "        return fibonacci(n-1)+fibonacci(n-2)\n",
    "n=int(input(\"Enter the value of n=\"))\n",
    "for i in range(n):print(fibonacci(i),end=\"\\t\")"
   ]
  },
  {
   "cell_type": "code",
   "execution_count": 4,
   "id": "e704021b-3014-4ed5-b3e7-e36f64ff3f3f",
   "metadata": {},
   "outputs": [
    {
     "name": "stdout",
     "output_type": "stream",
     "text": [
      "6\n"
     ]
    }
   ],
   "source": [
    "def vowel_count(string):\n",
    "    v=\"aeiouAEIOU\"\n",
    "    count=0\n",
    "    for i in string:\n",
    "        if i in v:\n",
    "            count+=1\n",
    "    return count\n",
    "result=vowel_count(\"harsh is a good boy\")\n",
    "print(result)"
   ]
  },
  {
   "cell_type": "code",
   "execution_count": 5,
   "id": "947db2ee-6357-4b58-ba1f-84666dc45194",
   "metadata": {},
   "outputs": [
    {
     "name": "stdin",
     "output_type": "stream",
     "text": [
      "enter the string= abcba\n"
     ]
    },
    {
     "name": "stdout",
     "output_type": "stream",
     "text": [
      "string;s palindrome\n"
     ]
    }
   ],
   "source": [
    "s=input(\"enter the string=\")\n",
    "if (s==s[ : :-1]):\n",
    "    print(\"string;s palindrome\")\n",
    "else:\n",
    "    print(\"non palindrome\") "
   ]
  },
  {
   "cell_type": "code",
   "execution_count": 18,
   "id": "7062f940-fb9a-4e03-b811-780307e03d73",
   "metadata": {},
   "outputs": [
    {
     "name": "stdout",
     "output_type": "stream",
     "text": [
      "ccc aaa ttt\n"
     ]
    }
   ],
   "source": [
    "def triple(n):\n",
    "    s=\"\"\n",
    "    for i in n:\n",
    "        s+=i*3+\" \"\n",
    "    return s.strip()\n",
    "result=triple(\"cat\")\n",
    "print(result)"
   ]
  },
  {
   "cell_type": "code",
   "execution_count": null,
   "id": "3f2385d1-1268-4b5f-86f0-1166c8e1eb4f",
   "metadata": {},
   "outputs": [],
   "source": []
  }
 ],
 "metadata": {
  "kernelspec": {
   "display_name": "Python 3 (ipykernel)",
   "language": "python",
   "name": "python3"
  },
  "language_info": {
   "codemirror_mode": {
    "name": "ipython",
    "version": 3
   },
   "file_extension": ".py",
   "mimetype": "text/x-python",
   "name": "python",
   "nbconvert_exporter": "python",
   "pygments_lexer": "ipython3",
   "version": "3.12.6"
  }
 },
 "nbformat": 4,
 "nbformat_minor": 5
}
